{
 "cells": [
  {
   "cell_type": "code",
   "execution_count": 1,
   "metadata": {},
   "outputs": [],
   "source": [
    "# Pre-defined variable values\n",
    "fuel_capacity = 1000  # gallons\n",
    "fuel_consumption_rate = 50  # gallons per hour\n",
    "true_air_speed = 150  # knots\n",
    "payload = 5000  # pounds\n",
    "fuel_weight = 6000  # pounds\n",
    "moment_list = [10000, 2500]  # pound-feet\n",
    "total_weight = 1500  # pounds\n",
    "cl = 1.5  # lift coefficient\n",
    "rho = 1.225  # air density in kg/m^3\n",
    "v = 100  # velocity in m/s\n",
    "s = 20  # wing area in m^2\n",
    "cd = 0.02  # drag coefficient\n",
    "mass = 5000  # mass in kg\n",
    "g = 9.81  # acceleration due to gravity in m/s^2\n",
    "thrust = 6000  # thrust in N\n",
    "drag = 5000  # drag in N\n",
    "velocity = 50  # initial velocity in m/s\n",
    "acceleration = 2  # acceleration in m/s^2\n",
    "time = 10  # time in seconds\n"
   ]
  },
  {
   "cell_type": "code",
   "execution_count": 2,
   "metadata": {},
   "outputs": [],
   "source": [
    "#Calculation code:\n",
    "\n",
    "\n",
    "# Helper function to pretty print performance data\n",
    "def pretty_print(range_, endurance, total_weight, cg_position, lift, drag, weight, acceleration, velocity, distance):\n",
    "    print(\"Performance Calculations:\")\n",
    "    print(\"Range: {} miles\".format(range_))\n",
    "    print(\"Endurance: {} hours\".format(endurance))\n",
    "    print(\"Total Weight: {} pounds\".format(total_weight))\n",
    "    print(\"Center of Gravity Position: {} feet\".format(cg_position))\n",
    "    print(\"Lift: {} Newtons\".format(lift))\n",
    "    print(\"Drag: {} Newtons\".format(drag))\n",
    "    print(\"Weight: {} Newtons\".format(weight))\n",
    "    print(\"Acceleration: {} m/s^2\".format(acceleration))\n",
    "    print(\"Velocity: {} m/s\".format(velocity))\n",
    "    print(\"Distance: {} meters\".format(distance))"
   ]
  },
  {
   "cell_type": "code",
   "execution_count": 3,
   "metadata": {},
   "outputs": [],
   "source": [
    "def calculate_range(fuel_capacity, fuel_consumption_rate, true_air_speed):\n",
    "    range_in_hours = fuel_capacity / fuel_consumption_rate\n",
    "    range_in_miles = range_in_hours * true_air_speed\n",
    "    return range_in_miles\n",
    "\n",
    "# Function to calculate endurance\n",
    "def calculate_endurance(fuel_capacity, fuel_consumption_rate):\n",
    "    endurance_in_hours = fuel_capacity / fuel_consumption_rate\n",
    "    return endurance_in_hours\n",
    "\n",
    "# Function to calculate total weight\n",
    "def calculate_total_weight(payload, fuel_weight):\n",
    "    return payload + fuel_weight\n",
    "\n",
    "# Function to calculate center of gravity position\n",
    "def calculate_cg_position(moment_list, total_weight):\n",
    "    total_moment = sum(moment_list)\n",
    "    cg_position = total_moment / total_weight\n",
    "    return cg_position\n",
    "\n",
    "# Function to calculate moment\n",
    "def calculate_moment(weight, arm):\n",
    "    return weight * arm\n",
    "\n",
    "# Function to calculate lift\n",
    "def calculate_lift(cl, rho, v, s):\n",
    "    return 0.5 * cl * rho * v**2 * s\n",
    "\n",
    "# Function to calculate drag\n",
    "def calculate_drag(cd, rho, v, s):\n",
    "    return 0.5 * cd * rho * v**2 * s\n",
    "\n",
    "# Function to calculate weight\n",
    "def calculate_weight(mass, g):\n",
    "    return mass * g\n",
    "\n",
    "# Function to calculate acceleration\n",
    "def calculate_acceleration(thrust, drag, weight, mass):\n",
    "    return (thrust - drag - weight) / mass\n",
    "\n",
    "# Function to calculate velocity\n",
    "def calculate_velocity(velocity, acceleration, time):\n",
    "    return velocity + acceleration * time\n",
    "\n",
    "# Function to calculate distance\n",
    "def calculate_distance(velocity, time):\n",
    "    return velocity * time"
   ]
  },
  {
   "cell_type": "code",
   "execution_count": 4,
   "metadata": {},
   "outputs": [
    {
     "name": "stdout",
     "output_type": "stream",
     "text": [
      "Performance Calculations:\n",
      "Range: 3000.0 miles\n",
      "Endurance: 20.0 hours\n",
      "Total Weight: 11000 pounds\n",
      "Center of Gravity Position: 1.1363636363636365 feet\n",
      "Lift: 183750.0 Newtons\n",
      "Drag: 2450.0 Newtons\n",
      "Weight: 49050.0 Newtons\n",
      "Acceleration: -9.1 m/s^2\n",
      "Velocity: -41.0 m/s\n",
      "Distance: -410.0 meters\n"
     ]
    }
   ],
   "source": [
    "#pretty print values\n",
    "\n",
    "# Perform calculations\n",
    "range_ = calculate_range(fuel_capacity, fuel_consumption_rate, true_air_speed)\n",
    "endurance = calculate_endurance(fuel_capacity, fuel_consumption_rate)\n",
    "total_weight = calculate_total_weight(payload, fuel_weight)\n",
    "cg_position = calculate_cg_position(moment_list, total_weight)\n",
    "lift = calculate_lift(cl, rho, v, s)\n",
    "drag = calculate_drag(cd, rho, v, s)\n",
    "weight = calculate_weight(mass, g)\n",
    "acceleration = calculate_acceleration(thrust, drag, weight, mass)\n",
    "velocity = calculate_velocity(velocity, acceleration, time)\n",
    "distance = calculate_distance(velocity, time)\n",
    "\n",
    "pretty_print(range_, endurance, total_weight, cg_position, lift, drag, weight, acceleration, velocity, distance)"
   ]
  },
  {
   "cell_type": "code",
   "execution_count": 5,
   "metadata": {},
   "outputs": [],
   "source": [
    "#Save performance values into file.\n",
    "\n",
    "def save_info_to_file(range_, endurance, total_weight, cg_position, lift, drag, weight, acceleration, velocity, distance, file):\n",
    "    file.write(\"Performance Calculations:\\n\")\n",
    "    file.write(\"Range: {} miles\\n\".format(range_))\n",
    "    file.write(\"Endurance: {} hours\\n\".format(endurance))\n",
    "    file.write(\"Total Weight: {} pounds\\n\".format(total_weight))\n",
    "    file.write(\"Center of Gravity Position: {} feet\\n\".format(cg_position))\n",
    "    file.write(\"Lift: {} Newtons\\n\".format(lift))\n",
    "    file.write(\"Drag: {} Newtons\\n\".format(drag))\n",
    "    file.write(\"Weight: {} Newtons\\n\".format(weight))\n",
    "    file.write(\"Acceleration: {} m/s^2\\n\".format(acceleration))\n",
    "    file.write(\"Velocity: {} m/s\\n\".format(velocity))\n",
    "    file.write(\"Distance: {} meters\\n\".format(distance))"
   ]
  },
  {
   "cell_type": "code",
   "execution_count": 6,
   "metadata": {},
   "outputs": [],
   "source": [
    "with open('aircraft_performance_analysis.txt', 'w') as f:\n",
    "    save_info_to_file(range_, endurance, total_weight, cg_position, lift, drag, weight, acceleration, velocity, distance, file=f)"
   ]
  },
  {
   "cell_type": "code",
   "execution_count": null,
   "metadata": {},
   "outputs": [],
   "source": []
  }
 ],
 "metadata": {
  "kernelspec": {
   "display_name": "Python 3",
   "language": "python",
   "name": "python3"
  },
  "language_info": {
   "codemirror_mode": {
    "name": "ipython",
    "version": 3
   },
   "file_extension": ".py",
   "mimetype": "text/x-python",
   "name": "python",
   "nbconvert_exporter": "python",
   "pygments_lexer": "ipython3",
   "version": "3.8.5"
  }
 },
 "nbformat": 4,
 "nbformat_minor": 4
}
